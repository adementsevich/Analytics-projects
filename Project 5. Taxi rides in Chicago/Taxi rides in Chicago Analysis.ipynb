{
 "cells": [
  {
   "cell_type": "markdown",
   "metadata": {},
   "source": [
    "This is work of Alina Dzemiantsevich ademencevich@gmail.com\n",
    "\n",
    "## Project description"
   ]
  },
  {
   "cell_type": "markdown",
   "metadata": {},
   "source": [
    "You're working as an analyst for Zuber, a new ride-sharing company that's launching in Chicago. Your task is to find patterns in the available information. You want to understand passenger preferences and the impact of external factors on rides.\n",
    "\n",
    "You'll study a database, analyze data from competitors, and test a hypothesis about the impact of weather on ride frequency.\n",
    "\n",
    "**Description of the data**\n",
    "\n",
    "A database with info on taxi rides in Chicago: \n",
    "<blockquote>\n",
    "<b>neighborhoods table:</b> data on city neighborhoods<br>\n",
    "<b>name:</b> name of the neighborhood <br>\n",
    "<b>neighborhood_id:</b> neighborhood code<br>\n",
    "\n",
    "<b>cabs table:</b> data on taxis<br>\n",
    "<b>cab_id:</b> vehicle code<br>\n",
    "<b>vehicle_id:</b> the vehicle's technical ID <br>\n",
    "<b>company_name:</b> the company that owns the vehicle<br>\n",
    "    \n",
    "    \n",
    "<b>trips table:</b> data on rides<br>\n",
    "<b>trip_id:</b> ride code<br>\n",
    "<b>cab_id:</b> code of the vehicle operating the ride<br>\n",
    "<b>start_ts:</b> date and time of the beginning of the ride (time rounded to the hour)<br>\n",
    "<b>end_ts:</b> date and time of the end of the ride (time rounded to the hour) duration_seconds: ride duration in seconds<br>\n",
    "<b>distance_miles:</b> ride distance in miles<br>\n",
    "<b>pickup_location_id:</b> pickup neighborhood code<br>\n",
    "<b>dropoff_location_id:</b> dropoff neighborhood code<br>\n",
    "    \n",
    "    \n",
    "<b>weather_records table:</b> data on weather <br>\n",
    "<b>record_id:</b> weather record code<br>\n",
    "<b>ts:</b> record date and time (time rounded to the hour) <br>\n",
    "<b>temperature:</b> temperature when the record was taken<br>\n",
    "<b>description:</b> brief description of weather conditions, e.g. \"light rain\" or \"scattered clouds\"<br>\n",
    "\n",
    "</blockquote>\n",
    "\n",
    "![](https://drive.google.com/file/d/13rrfpBCyjY1UVSoEbvBw6TdVLor4JM5L/view?usp=sharing)\n",
    "\n",
    "Note: there isn't a direct connection between the tables trips and weather_records in the database. But you can still use JOIN and link them using the time the ride started (trips.start_ts) and the time the weather record was taken (weather_records.ts)."
   ]
  },
  {
   "cell_type": "markdown",
   "metadata": {},
   "source": [
    "### Table of Contents\n",
    "\n",
    "* [Step 1. Write a code to parse the data on weather in Chicago in November 2017 ](#step1)\n",
    "* [Step 2. Exploratory data analysis (SQL on the platform)](#step2)\n",
    "* [Step 3. Test the hypothesis (SQL on the platform)](#step3)\n",
    "* [Step 4. Exploratory data analysis (Python)](#step4)\n",
    "* [Step 5. Testing hypotheses (Python)](#step5)\n",
    "* [Step 6. Overall Conclusion](#step6)"
   ]
  },
  {
   "cell_type": "markdown",
   "metadata": {},
   "source": [
    "### Step 1. Write a code to parse the data on weather in Chicago in November 2017 from the website:\n",
    "<a class=\"anchor\" id=\"step1\"></a>\n",
    "http://slava-public-access.s3-website-eu-west-1.amazonaws.com"
   ]
  },
  {
   "cell_type": "code",
   "execution_count": 1,
   "metadata": {},
   "outputs": [],
   "source": [
    "from bs4 import BeautifulSoup\n",
    "import pandas as pd\n",
    "import requests"
   ]
  },
  {
   "cell_type": "code",
   "execution_count": 2,
   "metadata": {},
   "outputs": [],
   "source": [
    "#our URL\n",
    "URL='http://slava-public-access.s3-website-eu-west-1.amazonaws.com/'\n",
    "req = requests.get(URL) # GET-request\n",
    "soup = BeautifulSoup(req.text, 'lxml') #create a BeautifulSoup object"
   ]
  },
  {
   "cell_type": "code",
   "execution_count": 3,
   "metadata": {},
   "outputs": [],
   "source": [
    "#let's see what we got\n",
    "#print(soup)"
   ]
  },
  {
   "cell_type": "code",
   "execution_count": 4,
   "metadata": {},
   "outputs": [
    {
     "name": "stdout",
     "output_type": "stream",
     "text": [
      "['Date and time', 'Temperature', 'Description']\n"
     ]
    }
   ],
   "source": [
    "# List where the names of the columns will be stored\n",
    "heading_table = [] \n",
    "# The names of the columns are inside <th> elements\n",
    "for row in soup.find_all('th'): \n",
    "# so we'll find all <th> elements in the table and run them through in a loop\n",
    "        heading_table.append(row.text) # Add the content from the <th> tag to the heading_table list using append() \n",
    "print(heading_table) "
   ]
  },
  {
   "cell_type": "markdown",
   "metadata": {},
   "source": [
    "<div class=\"alert alert-success\" role=\"alert\">\n",
    "Reviewer's comment v. 1:\n",
    "\n",
    "Yes, we have three columns.\n",
    "</div>"
   ]
  },
  {
   "cell_type": "code",
   "execution_count": 5,
   "metadata": {},
   "outputs": [],
   "source": [
    "content=[] # list where the table data will be stored\n",
    "for row in soup.find_all('tr'): \n",
    "# Each row is wrapped in a <tr> tag, we need to loop through all the rows\n",
    "    if not row.find_all('th'): \n",
    "# We need this condition to ignore the first row of the table, with headings\n",
    "            content.append([element.text for element in row.find_all('td')])\n",
    "            # Within each row the cell content is wrapped in <td> </td> tags\n",
    "            # We need to loop through all <td> elements, extract the content from the cells, and add it to the list\n",
    "            # Then add each of the lists to the content list\n",
    "#print(content)"
   ]
  },
  {
   "cell_type": "code",
   "execution_count": 6,
   "metadata": {},
   "outputs": [
    {
     "data": {
      "text/plain": [
       "list"
      ]
     },
     "execution_count": 6,
     "metadata": {},
     "output_type": "execute_result"
    }
   ],
   "source": [
    "#we got three-dimensional list object\n",
    "type(content)"
   ]
  },
  {
   "cell_type": "code",
   "execution_count": 7,
   "metadata": {
    "scrolled": true
   },
   "outputs": [
    {
     "data": {
      "text/html": [
       "<div>\n",
       "<style scoped>\n",
       "    .dataframe tbody tr th:only-of-type {\n",
       "        vertical-align: middle;\n",
       "    }\n",
       "\n",
       "    .dataframe tbody tr th {\n",
       "        vertical-align: top;\n",
       "    }\n",
       "\n",
       "    .dataframe thead th {\n",
       "        text-align: right;\n",
       "    }\n",
       "</style>\n",
       "<table border=\"1\" class=\"dataframe\">\n",
       "  <thead>\n",
       "    <tr style=\"text-align: right;\">\n",
       "      <th></th>\n",
       "      <th>Date and time</th>\n",
       "      <th>Temperature</th>\n",
       "      <th>Description</th>\n",
       "    </tr>\n",
       "  </thead>\n",
       "  <tbody>\n",
       "    <tr>\n",
       "      <th>0</th>\n",
       "      <td>2017-11-01 00:00:00</td>\n",
       "      <td>276.150</td>\n",
       "      <td>broken clouds</td>\n",
       "    </tr>\n",
       "    <tr>\n",
       "      <th>1</th>\n",
       "      <td>2017-11-01 01:00:00</td>\n",
       "      <td>275.700</td>\n",
       "      <td>scattered clouds</td>\n",
       "    </tr>\n",
       "    <tr>\n",
       "      <th>2</th>\n",
       "      <td>2017-11-01 02:00:00</td>\n",
       "      <td>275.610</td>\n",
       "      <td>overcast clouds</td>\n",
       "    </tr>\n",
       "    <tr>\n",
       "      <th>3</th>\n",
       "      <td>2017-11-01 03:00:00</td>\n",
       "      <td>275.350</td>\n",
       "      <td>broken clouds</td>\n",
       "    </tr>\n",
       "    <tr>\n",
       "      <th>4</th>\n",
       "      <td>2017-11-01 04:00:00</td>\n",
       "      <td>275.240</td>\n",
       "      <td>broken clouds</td>\n",
       "    </tr>\n",
       "  </tbody>\n",
       "</table>\n",
       "</div>"
      ],
      "text/plain": [
       "         Date and time Temperature       Description\n",
       "0  2017-11-01 00:00:00     276.150     broken clouds\n",
       "1  2017-11-01 01:00:00     275.700  scattered clouds\n",
       "2  2017-11-01 02:00:00     275.610   overcast clouds\n",
       "3  2017-11-01 03:00:00     275.350     broken clouds\n",
       "4  2017-11-01 04:00:00     275.240     broken clouds"
      ]
     },
     "execution_count": 7,
     "metadata": {},
     "output_type": "execute_result"
    }
   ],
   "source": [
    "weather = pd.DataFrame(content, columns=heading_table) \n",
    "# pass three-dimensional content list as data and heading_table as headings\n",
    "weather.head() "
   ]
  },
  {
   "cell_type": "code",
   "execution_count": 8,
   "metadata": {},
   "outputs": [
    {
     "name": "stdout",
     "output_type": "stream",
     "text": [
      "<class 'pandas.core.frame.DataFrame'>\n",
      "RangeIndex: 697 entries, 0 to 696\n",
      "Data columns (total 3 columns):\n",
      " #   Column         Non-Null Count  Dtype \n",
      "---  ------         --------------  ----- \n",
      " 0   Date and time  697 non-null    object\n",
      " 1   Temperature    697 non-null    object\n",
      " 2   Description    697 non-null    object\n",
      "dtypes: object(3)\n",
      "memory usage: 16.5+ KB\n"
     ]
    }
   ],
   "source": [
    "weather.info()"
   ]
  },
  {
   "cell_type": "code",
   "execution_count": 9,
   "metadata": {},
   "outputs": [
    {
     "data": {
      "text/plain": [
       "Index(['date_and_time', 'temperature', 'description'], dtype='object')"
      ]
     },
     "execution_count": 9,
     "metadata": {},
     "output_type": "execute_result"
    }
   ],
   "source": [
    "#let's remove spaces in column name 'Date and time'\n",
    "weather.rename(columns={'Date and time':'Date_and_time'}, inplace=True)\n",
    "#make columns lowercase\n",
    "weather.columns = weather.columns.str.lower()\n",
    "weather.columns"
   ]
  },
  {
   "cell_type": "code",
   "execution_count": 10,
   "metadata": {},
   "outputs": [],
   "source": [
    "#convert 'date_and_time' into datetime type\n",
    "weather['date_and_time'] = pd.to_datetime(weather['date_and_time'],format='%Y.%m.%d')"
   ]
  },
  {
   "cell_type": "code",
   "execution_count": 11,
   "metadata": {},
   "outputs": [],
   "source": [
    "#convert 'temperature' column into float type\n",
    "weather['temperature']=weather['temperature'].astype('float')"
   ]
  },
  {
   "cell_type": "code",
   "execution_count": 12,
   "metadata": {},
   "outputs": [
    {
     "name": "stdout",
     "output_type": "stream",
     "text": [
      "<class 'pandas.core.frame.DataFrame'>\n",
      "RangeIndex: 697 entries, 0 to 696\n",
      "Data columns (total 3 columns):\n",
      " #   Column         Non-Null Count  Dtype         \n",
      "---  ------         --------------  -----         \n",
      " 0   date_and_time  697 non-null    datetime64[ns]\n",
      " 1   temperature    697 non-null    float64       \n",
      " 2   description    697 non-null    object        \n",
      "dtypes: datetime64[ns](1), float64(1), object(1)\n",
      "memory usage: 16.5+ KB\n"
     ]
    }
   ],
   "source": [
    "weather.info()"
   ]
  },
  {
   "cell_type": "code",
   "execution_count": 13,
   "metadata": {},
   "outputs": [
    {
     "data": {
      "text/html": [
       "<div>\n",
       "<style scoped>\n",
       "    .dataframe tbody tr th:only-of-type {\n",
       "        vertical-align: middle;\n",
       "    }\n",
       "\n",
       "    .dataframe tbody tr th {\n",
       "        vertical-align: top;\n",
       "    }\n",
       "\n",
       "    .dataframe thead th {\n",
       "        text-align: right;\n",
       "    }\n",
       "</style>\n",
       "<table border=\"1\" class=\"dataframe\">\n",
       "  <thead>\n",
       "    <tr style=\"text-align: right;\">\n",
       "      <th></th>\n",
       "      <th>temperature</th>\n",
       "    </tr>\n",
       "  </thead>\n",
       "  <tbody>\n",
       "    <tr>\n",
       "      <th>count</th>\n",
       "      <td>697.000000</td>\n",
       "    </tr>\n",
       "    <tr>\n",
       "      <th>mean</th>\n",
       "      <td>277.548864</td>\n",
       "    </tr>\n",
       "    <tr>\n",
       "      <th>std</th>\n",
       "      <td>4.515403</td>\n",
       "    </tr>\n",
       "    <tr>\n",
       "      <th>min</th>\n",
       "      <td>265.740000</td>\n",
       "    </tr>\n",
       "    <tr>\n",
       "      <th>25%</th>\n",
       "      <td>274.240000</td>\n",
       "    </tr>\n",
       "    <tr>\n",
       "      <th>50%</th>\n",
       "      <td>277.410000</td>\n",
       "    </tr>\n",
       "    <tr>\n",
       "      <th>75%</th>\n",
       "      <td>280.980000</td>\n",
       "    </tr>\n",
       "    <tr>\n",
       "      <th>max</th>\n",
       "      <td>289.760000</td>\n",
       "    </tr>\n",
       "  </tbody>\n",
       "</table>\n",
       "</div>"
      ],
      "text/plain": [
       "       temperature\n",
       "count   697.000000\n",
       "mean    277.548864\n",
       "std       4.515403\n",
       "min     265.740000\n",
       "25%     274.240000\n",
       "50%     277.410000\n",
       "75%     280.980000\n",
       "max     289.760000"
      ]
     },
     "execution_count": 13,
     "metadata": {},
     "output_type": "execute_result"
    }
   ],
   "source": [
    "weather.describe()"
   ]
  },
  {
   "cell_type": "code",
   "execution_count": 14,
   "metadata": {},
   "outputs": [
    {
     "data": {
      "text/html": [
       "<div>\n",
       "<style scoped>\n",
       "    .dataframe tbody tr th:only-of-type {\n",
       "        vertical-align: middle;\n",
       "    }\n",
       "\n",
       "    .dataframe tbody tr th {\n",
       "        vertical-align: top;\n",
       "    }\n",
       "\n",
       "    .dataframe thead th {\n",
       "        text-align: right;\n",
       "    }\n",
       "</style>\n",
       "<table border=\"1\" class=\"dataframe\">\n",
       "  <thead>\n",
       "    <tr style=\"text-align: right;\">\n",
       "      <th></th>\n",
       "      <th>date_and_time</th>\n",
       "      <th>temperature</th>\n",
       "      <th>description</th>\n",
       "    </tr>\n",
       "  </thead>\n",
       "  <tbody>\n",
       "    <tr>\n",
       "      <th>692</th>\n",
       "      <td>2017-11-29 20:00:00</td>\n",
       "      <td>281.34</td>\n",
       "      <td>few clouds</td>\n",
       "    </tr>\n",
       "    <tr>\n",
       "      <th>693</th>\n",
       "      <td>2017-11-29 21:00:00</td>\n",
       "      <td>281.69</td>\n",
       "      <td>sky is clear</td>\n",
       "    </tr>\n",
       "    <tr>\n",
       "      <th>694</th>\n",
       "      <td>2017-11-29 22:00:00</td>\n",
       "      <td>281.07</td>\n",
       "      <td>few clouds</td>\n",
       "    </tr>\n",
       "    <tr>\n",
       "      <th>695</th>\n",
       "      <td>2017-11-29 23:00:00</td>\n",
       "      <td>280.06</td>\n",
       "      <td>sky is clear</td>\n",
       "    </tr>\n",
       "    <tr>\n",
       "      <th>696</th>\n",
       "      <td>2017-11-30 00:00:00</td>\n",
       "      <td>278.46</td>\n",
       "      <td>sky is clear</td>\n",
       "    </tr>\n",
       "  </tbody>\n",
       "</table>\n",
       "</div>"
      ],
      "text/plain": [
       "          date_and_time  temperature   description\n",
       "692 2017-11-29 20:00:00       281.34    few clouds\n",
       "693 2017-11-29 21:00:00       281.69  sky is clear\n",
       "694 2017-11-29 22:00:00       281.07    few clouds\n",
       "695 2017-11-29 23:00:00       280.06  sky is clear\n",
       "696 2017-11-30 00:00:00       278.46  sky is clear"
      ]
     },
     "execution_count": 14,
     "metadata": {},
     "output_type": "execute_result"
    }
   ],
   "source": [
    "weather.tail() "
   ]
  },
  {
   "cell_type": "markdown",
   "metadata": {},
   "source": [
    "### Conclusion \n",
    "<a class=\"anchor\" id=\"#step11\"></a>\n",
    "\n",
    "- I parsed the data about the weather in Chicago in November 2017. \n",
    "- I used for parsing html data the BeautifulSoup library. \n",
    "- I putted the weather data into a dataframe which contain 697 non-null rows. \n",
    "- All rows were object type\n",
    "- I converted 'Date and time' column into date type and 'Temperature' column into float type. \n",
    "- I made all column names lower case and removed spaces in 'Date and time' column name."
   ]
  },
  {
   "cell_type": "markdown",
   "metadata": {},
   "source": [
    "###  Step 2. Exploratory data analysis (SQL on the platform)\n",
    "<a class=\"anchor\" id=\"step2\"></a>\n",
    "\n",
    "<ol>\n",
    " <li>Find the number of taxi rides for each taxi company for November 15-16, 2017. Name the resulting field trips_amount and print it along with the company_name field. Sort the results by the trips_amount field in descending order.</li>\n",
    "    \n",
    " <li>Find the number of rides for every taxi company whose name contains the words \"Yellow\" or \"Blue\" for November 1-7, 2017. Name the resulting variable trips_amount. Group the results by the company_name field.</li>\n",
    "    \n",
    " <li>In November 2017, the most popular taxi companies were Flash Cab and Taxi Affiliation Services. Find the number of rides for these two companies and name the resulting variable trips_amount. Join the rides for all other companies in the group \"Other.\" Group the data by taxi company names. Name the field with taxi company names company. Sort the result in descending order by trips_amount.</li>\n",
    "</ol>"
   ]
  },
  {
   "cell_type": "markdown",
   "metadata": {},
   "source": [
    "1. Print the company_name field. Find the number of taxi rides for each taxi company for November 15-16, 2017, name the resulting field trips_amount, and print it, too. Sort the results by the trips_amount field in descending order.\n",
    "\n",
    "*Hint*\n",
    "Join the tables cabs and trips. Use aggregate functions and grouping. Don't forget to introduce a condition.\n",
    "\n",
    "`\n",
    "SELECT\n",
    "    cabs.company_name AS company_name,\n",
    "    COUNT (trips.trip_id) AS trips_amount\n",
    "FROM\n",
    "   cabs\n",
    "RIGHT JOIN trips ON cabs.cab_id = trips.cab_id\n",
    "WHERE trips.start_ts::date IN ('2017-11-15','2017-11-16')\n",
    "GROUP BY cabs.company_name\n",
    "ORDER BY trips_amount DESC;\n",
    "`"
   ]
  },
  {
   "cell_type": "markdown",
   "metadata": {},
   "source": [
    "2. Find the number of rides for every taxi company whose name contains the words \"Yellow\" or \"Blue\" for November 1-7, 2017. Name the resulting variable trips_amount. Group the results by the company_name field.\n",
    "\n",
    "`\n",
    "SELECT\n",
    "    cabs.company_name AS company_name,\n",
    "    COUNT (trips.trip_id) AS trips_amount\n",
    "FROM\n",
    "   cabs\n",
    "RIGHT JOIN trips ON cabs.cab_id = trips.cab_id\n",
    "WHERE trips.start_ts::date IN ('2017-11-01','2017-11-02','2017-11-03','2017-11-04','2017-11-05','2017-11-06','2017-11-07') AND\n",
    "    (cabs.company_name LIKE '%Yellow%' OR \n",
    "     cabs.company_name LIKE '%Blue%')\n",
    "GROUP BY cabs.company_name;\n",
    "`"
   ]
  },
  {
   "cell_type": "markdown",
   "metadata": {},
   "source": [
    "3.\n",
    "For November 1-7, 2017, the most popular taxi companies were Flash Cab and Taxi Affiliation Services. Find the number of rides for these two companies and name the resulting variable trips_amount. Join the rides for all other companies in the group \"Other.\" Group the data by taxi company names. Name the field with taxi company names company. Sort the result in descending order by trips_amount.\n",
    "\n",
    "`\n",
    "SELECT\n",
    "    CASE WHEN cabs.company_name = 'Flash Cab'\n",
    "        THEN 'Flash Cab'\n",
    "        WHEN cabs.company_name = 'Taxi Affiliation Services'\n",
    "        THEN 'Taxi Affiliation Services'\n",
    "        ELSE 'Other' END AS company,\n",
    "    COUNT (trips.trip_id) AS trips_amount\n",
    "FROM\n",
    "   cabs\n",
    "RIGHT JOIN trips ON cabs.cab_id = trips.cab_id\n",
    "WHERE trips.start_ts::date IN ('2017-11-01','2017-11-02','2017-11-03','2017-11-04','2017-11-05','2017-11-06','2017-11-07') \n",
    "GROUP BY company\n",
    "ORDER BY trips_amount desc;\n",
    "`"
   ]
  },
  {
   "cell_type": "markdown",
   "metadata": {},
   "source": [
    "###  Step 3. Test the hypothesis that the duration of rides from the the Loop to O'Hare International Airport changes on rainy Sundays. (SQL on the platform)\n",
    "<a class=\"anchor\" id=\"step3\"></a>\n",
    "\n",
    "<ol>\n",
    "<li>Retrieve the identifiers of the O'Hare and Loop neighborhoods from the neighborhoods table.</li>\n",
    "    \n",
    "<li>For each hour, retrieve the weather condition records from the weather_records table. Using the CASE operator, break all hours into two groups: \"Bad\" if the description field contains the words \"rain\" or \"storm,\" and \"Good\" for others. Name the resulting field weather_conditions. The final table must include two fields: date and hour (ts) and weather_conditions.</li>\n",
    "    \n",
    "<li>Retrieve from the trips table all the rides that started in the Loop (neighborhood_id: 50) and ended at O'Hare (neighborhood_id: 63) on a Sunday. Get the weather conditions for each ride. Use the method you applied in the previous task. Also retrieve the duration of each ride. Ignore rides for which data on weather conditions is not available.</li>"
   ]
  },
  {
   "cell_type": "markdown",
   "metadata": {},
   "source": [
    "1. Retrieve the identifiers of the O'Hare and Loop neighborhoods from the neighborhoods table.\n",
    "\n",
    "`\n",
    "SELECT\n",
    "    neighborhood_id,\n",
    "    name\n",
    "FROM\n",
    "    neighborhoods\n",
    "WHERE\n",
    "    name LIKE '%Hare' OR name LIKE 'Loop';\n",
    "    `"
   ]
  },
  {
   "cell_type": "markdown",
   "metadata": {},
   "source": [
    "2. For each hour, retrieve the weather condition records from the weather_records table. Using the CASE operator, break all hours into two groups: \"Bad\" if the description field contains the words '\"rain\" or \"storm,\" and \"Good\" for others. Name the resulting field weather_conditions. The final table must include two fields: date and hour (ts) and weather_conditions.\n",
    "\n",
    "`\n",
    "SELECT\n",
    "    ts AS ts,\n",
    "    CASE WHEN description LIKE '%rain%' OR description LIKE '%storm%'\n",
    "         THEN 'Bad'\n",
    "         ELSE 'Good' END AS weather_conditions\n",
    "FROM\n",
    "    weather_records\n",
    "    `"
   ]
  },
  {
   "cell_type": "markdown",
   "metadata": {},
   "source": [
    "3. Retrieve from the trips table all the rides that started in the Loop (neighborhood_id: 50) on a Saturday and ended at O'Hare (neighborhood_id: 63). Get the weather conditions for each ride. Use the method you applied in the previous task. Also retrieve the duration of each ride. Ignore rides for which data on weather conditions is not available.\n",
    "\n",
    "The table columns should be in the following order:\n",
    "\t\tstart_ts\n",
    "\t\tweather_conditions\n",
    "\t\tduration_seconds\n",
    "Sort by trip_id.\n",
    "\n",
    "`\n",
    "SELECT\n",
    "    trips.start_ts,\n",
    "    CASE WHEN description LIKE '%rain%' OR description LIKE '%storm%'\n",
    "         THEN 'Bad'\n",
    "         ELSE 'Good' END AS weather_conditions,\n",
    "    trips.duration_seconds\n",
    "FROM\n",
    "    trips\n",
    "INNER JOIN weather_records ON trips.start_ts = weather_records.ts\n",
    "WHERE\n",
    "    trips.pickup_location_id = 50 AND\n",
    "    EXTRACT(dow FROM trips.start_ts) = 6 AND \n",
    "    trips.dropoff_location_id = 63\n",
    "ORDER BY trips.trip_id;\n",
    "`"
   ]
  },
  {
   "cell_type": "markdown",
   "metadata": {},
   "source": [
    "###  Step 4. Exploratory data analysis (Python)\n",
    "<a class=\"anchor\" id=\"step4\"></a>\n",
    "\n",
    "In addition to the data you retrieved in the previous tasks, you've been given a second file. You now have these two CSVs:<br>\n",
    "<br>\n",
    "<li><b>project_sql_result_01.csv</b><br>\n",
    "It contains the following data:<br>\n",
    "- company_name: taxi company name<br>\n",
    "- trips_amount: the number of rides for each taxi company on November 15-16, 2017</li><br>\n",
    "\n",
    "\n",
    "<li><b>project_sql_result_04.csv</b><br>\n",
    "It contains the following data: <br>\n",
    "- dropoff_location_name: Chicago neighborhoods where rides ended <br>\n",
    "- average_trips: the average number of rides that ended in each neighborhood in November 2017.</li>\n",
    "\n",
    "For these two datasets you now need to:\n",
    "- import the files\n",
    "- study the data they contain\n",
    "- make sure the data types are correct\n",
    "- identify the top 10 neighborhoods in terms of drop-offs\n",
    "- make graphs: taxi companies and number of rides, top 10 neighborhoods by number of dropoffs\n",
    "- draw conclusions based on each graph and explain the results"
   ]
  },
  {
   "cell_type": "code",
   "execution_count": 15,
   "metadata": {},
   "outputs": [],
   "source": [
    "import sys\n",
    "import warnings\n",
    "if not sys.warnoptions:\n",
    "       warnings.simplefilter(\"ignore\")"
   ]
  },
  {
   "cell_type": "code",
   "execution_count": 16,
   "metadata": {},
   "outputs": [],
   "source": [
    "import numpy as np\n",
    "import matplotlib as mpl\n",
    "import matplotlib.pyplot as plt\n",
    "import seaborn as sns\n",
    "from scipy import stats as st\n",
    "from math import floor, ceil\n",
    "from functools import reduce"
   ]
  },
  {
   "cell_type": "markdown",
   "metadata": {},
   "source": [
    "The first file we read contain the following data:\n",
    "- company_name: taxi company name\n",
    "- trips_amount: the number of rides for each taxi company on November 15-16, 2017"
   ]
  },
  {
   "cell_type": "code",
   "execution_count": 17,
   "metadata": {},
   "outputs": [],
   "source": [
    "#rides_taxi_company = pd.read_csv('project_sql_result_01.csv')\n",
    "\n",
    "#code for the platform:\n",
    "rides_taxi_company = pd.read_csv('project_sql_result_01.csv')"
   ]
  },
  {
   "cell_type": "code",
   "execution_count": 18,
   "metadata": {},
   "outputs": [
    {
     "name": "stdout",
     "output_type": "stream",
     "text": [
      "<class 'pandas.core.frame.DataFrame'>\n",
      "RangeIndex: 64 entries, 0 to 63\n",
      "Data columns (total 2 columns):\n",
      " #   Column        Non-Null Count  Dtype \n",
      "---  ------        --------------  ----- \n",
      " 0   company_name  64 non-null     object\n",
      " 1   trips_amount  64 non-null     int64 \n",
      "dtypes: int64(1), object(1)\n",
      "memory usage: 1.1+ KB\n"
     ]
    }
   ],
   "source": [
    "rides_taxi_company.info()"
   ]
  },
  {
   "cell_type": "markdown",
   "metadata": {},
   "source": [
    "We see that the first dataset contain only 64 rows. \n",
    "\n",
    "Columns do not require converting data types: trips are numerical and are int64 type and names of the taxi companies are strings.\n",
    "\n",
    "Let's look on the data."
   ]
  },
  {
   "cell_type": "code",
   "execution_count": 19,
   "metadata": {},
   "outputs": [
    {
     "data": {
      "text/html": [
       "<div>\n",
       "<style scoped>\n",
       "    .dataframe tbody tr th:only-of-type {\n",
       "        vertical-align: middle;\n",
       "    }\n",
       "\n",
       "    .dataframe tbody tr th {\n",
       "        vertical-align: top;\n",
       "    }\n",
       "\n",
       "    .dataframe thead th {\n",
       "        text-align: right;\n",
       "    }\n",
       "</style>\n",
       "<table border=\"1\" class=\"dataframe\">\n",
       "  <thead>\n",
       "    <tr style=\"text-align: right;\">\n",
       "      <th></th>\n",
       "      <th>company_name</th>\n",
       "      <th>trips_amount</th>\n",
       "    </tr>\n",
       "  </thead>\n",
       "  <tbody>\n",
       "    <tr>\n",
       "      <th>16</th>\n",
       "      <td>Blue Diamond</td>\n",
       "      <td>2070</td>\n",
       "    </tr>\n",
       "    <tr>\n",
       "      <th>20</th>\n",
       "      <td>Checker Taxi</td>\n",
       "      <td>1486</td>\n",
       "    </tr>\n",
       "    <tr>\n",
       "      <th>53</th>\n",
       "      <td>5006 - 39261 Salifu Bawa</td>\n",
       "      <td>14</td>\n",
       "    </tr>\n",
       "    <tr>\n",
       "      <th>43</th>\n",
       "      <td>2809 - 95474 C &amp; D Cab Co Inc.</td>\n",
       "      <td>29</td>\n",
       "    </tr>\n",
       "    <tr>\n",
       "      <th>57</th>\n",
       "      <td>Metro Group</td>\n",
       "      <td>11</td>\n",
       "    </tr>\n",
       "    <tr>\n",
       "      <th>17</th>\n",
       "      <td>Chicago Medallion Management</td>\n",
       "      <td>1955</td>\n",
       "    </tr>\n",
       "    <tr>\n",
       "      <th>11</th>\n",
       "      <td>Globe Taxi</td>\n",
       "      <td>4383</td>\n",
       "    </tr>\n",
       "    <tr>\n",
       "      <th>0</th>\n",
       "      <td>Flash Cab</td>\n",
       "      <td>19558</td>\n",
       "    </tr>\n",
       "    <tr>\n",
       "      <th>63</th>\n",
       "      <td>3556 - 36214 RC Andrews Cab</td>\n",
       "      <td>2</td>\n",
       "    </tr>\n",
       "    <tr>\n",
       "      <th>55</th>\n",
       "      <td>6057 - 24657 Richard Addo</td>\n",
       "      <td>13</td>\n",
       "    </tr>\n",
       "  </tbody>\n",
       "</table>\n",
       "</div>"
      ],
      "text/plain": [
       "                      company_name  trips_amount\n",
       "16                    Blue Diamond          2070\n",
       "20                    Checker Taxi          1486\n",
       "53        5006 - 39261 Salifu Bawa            14\n",
       "43  2809 - 95474 C & D Cab Co Inc.            29\n",
       "57                     Metro Group            11\n",
       "17    Chicago Medallion Management          1955\n",
       "11                      Globe Taxi          4383\n",
       "0                        Flash Cab         19558\n",
       "63     3556 - 36214 RC Andrews Cab             2\n",
       "55       6057 - 24657 Richard Addo            13"
      ]
     },
     "execution_count": 19,
     "metadata": {},
     "output_type": "execute_result"
    }
   ],
   "source": [
    "rides_taxi_company.sample(10)"
   ]
  },
  {
   "cell_type": "markdown",
   "metadata": {},
   "source": [
    "Let's read the second file. It contains the following data:\n",
    "- dropoff_location_name: Chicago neighborhoods where rides ended\n",
    "- average_trips: the average number of rides that ended in each neighborhood in November 2017."
   ]
  },
  {
   "cell_type": "code",
   "execution_count": 20,
   "metadata": {},
   "outputs": [],
   "source": [
    "#end_neighborhoods = pd.read_csv('project_sql_result_04.csv')\n",
    "\n",
    "#code for the platform:\n",
    "end_neighborhoods = pd.read_csv('project_sql_result_04.csv')"
   ]
  },
  {
   "cell_type": "code",
   "execution_count": 21,
   "metadata": {},
   "outputs": [
    {
     "name": "stdout",
     "output_type": "stream",
     "text": [
      "<class 'pandas.core.frame.DataFrame'>\n",
      "RangeIndex: 94 entries, 0 to 93\n",
      "Data columns (total 2 columns):\n",
      " #   Column                 Non-Null Count  Dtype  \n",
      "---  ------                 --------------  -----  \n",
      " 0   dropoff_location_name  94 non-null     object \n",
      " 1   average_trips          94 non-null     float64\n",
      "dtypes: float64(1), object(1)\n",
      "memory usage: 1.6+ KB\n"
     ]
    }
   ],
   "source": [
    "end_neighborhoods.info()"
   ]
  },
  {
   "cell_type": "code",
   "execution_count": 22,
   "metadata": {},
   "outputs": [
    {
     "data": {
      "text/html": [
       "<div>\n",
       "<style scoped>\n",
       "    .dataframe tbody tr th:only-of-type {\n",
       "        vertical-align: middle;\n",
       "    }\n",
       "\n",
       "    .dataframe tbody tr th {\n",
       "        vertical-align: top;\n",
       "    }\n",
       "\n",
       "    .dataframe thead th {\n",
       "        text-align: right;\n",
       "    }\n",
       "</style>\n",
       "<table border=\"1\" class=\"dataframe\">\n",
       "  <thead>\n",
       "    <tr style=\"text-align: right;\">\n",
       "      <th></th>\n",
       "      <th>dropoff_location_name</th>\n",
       "      <th>average_trips</th>\n",
       "    </tr>\n",
       "  </thead>\n",
       "  <tbody>\n",
       "    <tr>\n",
       "      <th>1</th>\n",
       "      <td>River North</td>\n",
       "      <td>9523.666667</td>\n",
       "    </tr>\n",
       "    <tr>\n",
       "      <th>58</th>\n",
       "      <td>Englewood</td>\n",
       "      <td>25.433333</td>\n",
       "    </tr>\n",
       "    <tr>\n",
       "      <th>19</th>\n",
       "      <td>Old Town</td>\n",
       "      <td>469.566667</td>\n",
       "    </tr>\n",
       "    <tr>\n",
       "      <th>52</th>\n",
       "      <td>Little Village</td>\n",
       "      <td>33.800000</td>\n",
       "    </tr>\n",
       "    <tr>\n",
       "      <th>49</th>\n",
       "      <td>Sauganash,Forest Glen</td>\n",
       "      <td>43.566667</td>\n",
       "    </tr>\n",
       "    <tr>\n",
       "      <th>21</th>\n",
       "      <td>North Center</td>\n",
       "      <td>393.266667</td>\n",
       "    </tr>\n",
       "    <tr>\n",
       "      <th>54</th>\n",
       "      <td>North Lawndale</td>\n",
       "      <td>32.166667</td>\n",
       "    </tr>\n",
       "    <tr>\n",
       "      <th>65</th>\n",
       "      <td>Ashburn</td>\n",
       "      <td>16.133333</td>\n",
       "    </tr>\n",
       "    <tr>\n",
       "      <th>89</th>\n",
       "      <td>Mount Greenwood</td>\n",
       "      <td>3.137931</td>\n",
       "    </tr>\n",
       "    <tr>\n",
       "      <th>31</th>\n",
       "      <td>Lower West Side</td>\n",
       "      <td>143.300000</td>\n",
       "    </tr>\n",
       "  </tbody>\n",
       "</table>\n",
       "</div>"
      ],
      "text/plain": [
       "    dropoff_location_name  average_trips\n",
       "1             River North    9523.666667\n",
       "58              Englewood      25.433333\n",
       "19               Old Town     469.566667\n",
       "52         Little Village      33.800000\n",
       "49  Sauganash,Forest Glen      43.566667\n",
       "21           North Center     393.266667\n",
       "54         North Lawndale      32.166667\n",
       "65                Ashburn      16.133333\n",
       "89        Mount Greenwood       3.137931\n",
       "31        Lower West Side     143.300000"
      ]
     },
     "execution_count": 22,
     "metadata": {},
     "output_type": "execute_result"
    }
   ],
   "source": [
    "end_neighborhoods.sample(10)"
   ]
  },
  {
   "cell_type": "markdown",
   "metadata": {},
   "source": [
    "The end_neighborhoods dataset contain 94 rows. \n",
    "\n",
    "Columns do not require converting data types: \n",
    "- the column dropoff_location_name contain names of neighborhoods where rides ended and it is string type.\n",
    "- the column average_trips is numerical of float data type. This column contain data about the average number of rides that ended in each neighborhood in November 2017. "
   ]
  },
  {
   "cell_type": "markdown",
   "metadata": {},
   "source": [
    "**Identify the top 10 neighborhoods in terms of drop-offs.**"
   ]
  },
  {
   "cell_type": "code",
   "execution_count": 23,
   "metadata": {},
   "outputs": [
    {
     "data": {
      "text/html": [
       "<div>\n",
       "<style scoped>\n",
       "    .dataframe tbody tr th:only-of-type {\n",
       "        vertical-align: middle;\n",
       "    }\n",
       "\n",
       "    .dataframe tbody tr th {\n",
       "        vertical-align: top;\n",
       "    }\n",
       "\n",
       "    .dataframe thead th {\n",
       "        text-align: right;\n",
       "    }\n",
       "</style>\n",
       "<table border=\"1\" class=\"dataframe\">\n",
       "  <thead>\n",
       "    <tr style=\"text-align: right;\">\n",
       "      <th></th>\n",
       "      <th>dropoff_location_name</th>\n",
       "      <th>average_trips</th>\n",
       "    </tr>\n",
       "  </thead>\n",
       "  <tbody>\n",
       "    <tr>\n",
       "      <th>0</th>\n",
       "      <td>Loop</td>\n",
       "      <td>10727.466667</td>\n",
       "    </tr>\n",
       "    <tr>\n",
       "      <th>1</th>\n",
       "      <td>River North</td>\n",
       "      <td>9523.666667</td>\n",
       "    </tr>\n",
       "    <tr>\n",
       "      <th>2</th>\n",
       "      <td>Streeterville</td>\n",
       "      <td>6664.666667</td>\n",
       "    </tr>\n",
       "    <tr>\n",
       "      <th>3</th>\n",
       "      <td>West Loop</td>\n",
       "      <td>5163.666667</td>\n",
       "    </tr>\n",
       "    <tr>\n",
       "      <th>4</th>\n",
       "      <td>O'Hare</td>\n",
       "      <td>2546.900000</td>\n",
       "    </tr>\n",
       "    <tr>\n",
       "      <th>5</th>\n",
       "      <td>Lake View</td>\n",
       "      <td>2420.966667</td>\n",
       "    </tr>\n",
       "    <tr>\n",
       "      <th>6</th>\n",
       "      <td>Grant Park</td>\n",
       "      <td>2068.533333</td>\n",
       "    </tr>\n",
       "    <tr>\n",
       "      <th>7</th>\n",
       "      <td>Museum Campus</td>\n",
       "      <td>1510.000000</td>\n",
       "    </tr>\n",
       "    <tr>\n",
       "      <th>8</th>\n",
       "      <td>Gold Coast</td>\n",
       "      <td>1364.233333</td>\n",
       "    </tr>\n",
       "    <tr>\n",
       "      <th>9</th>\n",
       "      <td>Sheffield &amp; DePaul</td>\n",
       "      <td>1259.766667</td>\n",
       "    </tr>\n",
       "  </tbody>\n",
       "</table>\n",
       "</div>"
      ],
      "text/plain": [
       "  dropoff_location_name  average_trips\n",
       "0                  Loop   10727.466667\n",
       "1           River North    9523.666667\n",
       "2         Streeterville    6664.666667\n",
       "3             West Loop    5163.666667\n",
       "4                O'Hare    2546.900000\n",
       "5             Lake View    2420.966667\n",
       "6            Grant Park    2068.533333\n",
       "7         Museum Campus    1510.000000\n",
       "8            Gold Coast    1364.233333\n",
       "9    Sheffield & DePaul    1259.766667"
      ]
     },
     "execution_count": 23,
     "metadata": {},
     "output_type": "execute_result"
    }
   ],
   "source": [
    "#Let's find the top 10 neighborhoods by average number of rides that ended in each neighborhood\n",
    "top10neighborhoods = end_neighborhoods.sort_values(by='average_trips',ascending = False).head(10)\n",
    "top10neighborhoods"
   ]
  },
  {
   "cell_type": "code",
   "execution_count": 24,
   "metadata": {},
   "outputs": [
    {
     "data": {
      "text/plain": [
       "0                  Loop\n",
       "1           River North\n",
       "2         Streeterville\n",
       "3             West Loop\n",
       "4                O'Hare\n",
       "5             Lake View\n",
       "6            Grant Park\n",
       "7         Museum Campus\n",
       "8            Gold Coast\n",
       "9    Sheffield & DePaul\n",
       "Name: dropoff_location_name, dtype: object"
      ]
     },
     "execution_count": 24,
     "metadata": {},
     "output_type": "execute_result"
    }
   ],
   "source": [
    "top10neighborhoods['dropoff_location_name']"
   ]
  },
  {
   "cell_type": "markdown",
   "metadata": {},
   "source": [
    "**Make graphs: taxi companies and number of rides, top 10 neighborhoods by number of dropoffs.** <br>\n",
    "Draw conclusions based on each graph and explain the results."
   ]
  },
  {
   "cell_type": "code",
   "execution_count": 25,
   "metadata": {},
   "outputs": [
    {
     "data": {
      "text/html": [
       "<div>\n",
       "<style scoped>\n",
       "    .dataframe tbody tr th:only-of-type {\n",
       "        vertical-align: middle;\n",
       "    }\n",
       "\n",
       "    .dataframe tbody tr th {\n",
       "        vertical-align: top;\n",
       "    }\n",
       "\n",
       "    .dataframe thead th {\n",
       "        text-align: right;\n",
       "    }\n",
       "</style>\n",
       "<table border=\"1\" class=\"dataframe\">\n",
       "  <thead>\n",
       "    <tr style=\"text-align: right;\">\n",
       "      <th></th>\n",
       "      <th>trips_amount</th>\n",
       "    </tr>\n",
       "  </thead>\n",
       "  <tbody>\n",
       "    <tr>\n",
       "      <th>count</th>\n",
       "      <td>64.000000</td>\n",
       "    </tr>\n",
       "    <tr>\n",
       "      <th>mean</th>\n",
       "      <td>2145.484375</td>\n",
       "    </tr>\n",
       "    <tr>\n",
       "      <th>std</th>\n",
       "      <td>3812.310186</td>\n",
       "    </tr>\n",
       "    <tr>\n",
       "      <th>min</th>\n",
       "      <td>2.000000</td>\n",
       "    </tr>\n",
       "    <tr>\n",
       "      <th>25%</th>\n",
       "      <td>20.750000</td>\n",
       "    </tr>\n",
       "    <tr>\n",
       "      <th>50%</th>\n",
       "      <td>178.500000</td>\n",
       "    </tr>\n",
       "    <tr>\n",
       "      <th>75%</th>\n",
       "      <td>2106.500000</td>\n",
       "    </tr>\n",
       "    <tr>\n",
       "      <th>max</th>\n",
       "      <td>19558.000000</td>\n",
       "    </tr>\n",
       "  </tbody>\n",
       "</table>\n",
       "</div>"
      ],
      "text/plain": [
       "       trips_amount\n",
       "count     64.000000\n",
       "mean    2145.484375\n",
       "std     3812.310186\n",
       "min        2.000000\n",
       "25%       20.750000\n",
       "50%      178.500000\n",
       "75%     2106.500000\n",
       "max    19558.000000"
      ]
     },
     "execution_count": 25,
     "metadata": {},
     "output_type": "execute_result"
    }
   ],
   "source": [
    "rides_taxi_company.describe()"
   ]
  },
  {
   "cell_type": "code",
   "execution_count": 26,
   "metadata": {},
   "outputs": [
    {
     "data": {
      "text/html": [
       "<div>\n",
       "<style scoped>\n",
       "    .dataframe tbody tr th:only-of-type {\n",
       "        vertical-align: middle;\n",
       "    }\n",
       "\n",
       "    .dataframe tbody tr th {\n",
       "        vertical-align: top;\n",
       "    }\n",
       "\n",
       "    .dataframe thead th {\n",
       "        text-align: right;\n",
       "    }\n",
       "</style>\n",
       "<table border=\"1\" class=\"dataframe\">\n",
       "  <thead>\n",
       "    <tr style=\"text-align: right;\">\n",
       "      <th></th>\n",
       "      <th>company_name</th>\n",
       "      <th>trips_amount</th>\n",
       "    </tr>\n",
       "  </thead>\n",
       "  <tbody>\n",
       "    <tr>\n",
       "      <th>0</th>\n",
       "      <td>Flash Cab</td>\n",
       "      <td>19558</td>\n",
       "    </tr>\n",
       "    <tr>\n",
       "      <th>1</th>\n",
       "      <td>Taxi Affiliation Services</td>\n",
       "      <td>11422</td>\n",
       "    </tr>\n",
       "    <tr>\n",
       "      <th>2</th>\n",
       "      <td>Medallion Leasin</td>\n",
       "      <td>10367</td>\n",
       "    </tr>\n",
       "    <tr>\n",
       "      <th>3</th>\n",
       "      <td>Yellow Cab</td>\n",
       "      <td>9888</td>\n",
       "    </tr>\n",
       "    <tr>\n",
       "      <th>4</th>\n",
       "      <td>Taxi Affiliation Service Yellow</td>\n",
       "      <td>9299</td>\n",
       "    </tr>\n",
       "    <tr>\n",
       "      <th>5</th>\n",
       "      <td>Chicago Carriage Cab Corp</td>\n",
       "      <td>9181</td>\n",
       "    </tr>\n",
       "    <tr>\n",
       "      <th>6</th>\n",
       "      <td>City Service</td>\n",
       "      <td>8448</td>\n",
       "    </tr>\n",
       "    <tr>\n",
       "      <th>7</th>\n",
       "      <td>Sun Taxi</td>\n",
       "      <td>7701</td>\n",
       "    </tr>\n",
       "    <tr>\n",
       "      <th>8</th>\n",
       "      <td>Star North Management LLC</td>\n",
       "      <td>7455</td>\n",
       "    </tr>\n",
       "    <tr>\n",
       "      <th>9</th>\n",
       "      <td>Blue Ribbon Taxi Association Inc.</td>\n",
       "      <td>5953</td>\n",
       "    </tr>\n",
       "    <tr>\n",
       "      <th>10</th>\n",
       "      <td>Choice Taxi Association</td>\n",
       "      <td>5015</td>\n",
       "    </tr>\n",
       "    <tr>\n",
       "      <th>11</th>\n",
       "      <td>Globe Taxi</td>\n",
       "      <td>4383</td>\n",
       "    </tr>\n",
       "    <tr>\n",
       "      <th>12</th>\n",
       "      <td>Dispatch Taxi Affiliation</td>\n",
       "      <td>3355</td>\n",
       "    </tr>\n",
       "    <tr>\n",
       "      <th>13</th>\n",
       "      <td>Nova Taxi Affiliation Llc</td>\n",
       "      <td>3175</td>\n",
       "    </tr>\n",
       "    <tr>\n",
       "      <th>14</th>\n",
       "      <td>Patriot Taxi Dba Peace Taxi Associat</td>\n",
       "      <td>2235</td>\n",
       "    </tr>\n",
       "    <tr>\n",
       "      <th>15</th>\n",
       "      <td>Checker Taxi Affiliation</td>\n",
       "      <td>2216</td>\n",
       "    </tr>\n",
       "  </tbody>\n",
       "</table>\n",
       "</div>"
      ],
      "text/plain": [
       "                            company_name  trips_amount\n",
       "0                              Flash Cab         19558\n",
       "1              Taxi Affiliation Services         11422\n",
       "2                       Medallion Leasin         10367\n",
       "3                             Yellow Cab          9888\n",
       "4        Taxi Affiliation Service Yellow          9299\n",
       "5              Chicago Carriage Cab Corp          9181\n",
       "6                           City Service          8448\n",
       "7                               Sun Taxi          7701\n",
       "8              Star North Management LLC          7455\n",
       "9      Blue Ribbon Taxi Association Inc.          5953\n",
       "10               Choice Taxi Association          5015\n",
       "11                            Globe Taxi          4383\n",
       "12             Dispatch Taxi Affiliation          3355\n",
       "13             Nova Taxi Affiliation Llc          3175\n",
       "14  Patriot Taxi Dba Peace Taxi Associat          2235\n",
       "15              Checker Taxi Affiliation          2216"
      ]
     },
     "execution_count": 26,
     "metadata": {},
     "output_type": "execute_result"
    }
   ],
   "source": [
    "#the 4th quartile of taxi companies by number of rides\n",
    "rides_taxi_company[rides_taxi_company['trips_amount']>2106]"
   ]
  },
  {
   "cell_type": "code",
   "execution_count": 27,
   "metadata": {},
   "outputs": [
    {
     "name": "stdout",
     "output_type": "stream",
     "text": [
      "Number of taxi companies with the highest number of rides 16\n",
      "Share of taxi companies with the highest number of rides 25.0 %\n"
     ]
    }
   ],
   "source": [
    "print('Number of taxi companies with the highest number of rides',len(rides_taxi_company[rides_taxi_company['trips_amount']>2106]))\n",
    "\n",
    "print('Share of taxi companies with the highest number of rides', (((len(rides_taxi_company[rides_taxi_company['trips_amount']>2106]))/(len(rides_taxi_company['trips_amount'])))*100),'%')\n",
    "                                                                  "
   ]
  },
  {
   "cell_type": "code",
   "execution_count": 28,
   "metadata": {},
   "outputs": [
    {
     "data": {
      "image/png": "[encoded data removed]",
      "text/plain": [
       "<Figure size 1200x800 with 1 Axes>"
      ]
     },
     "metadata": {},
     "output_type": "display_data"
    }
   ],
   "source": [
    "#Let's plot the number of rides for each taxi company\n",
    "\n",
    "rides_taxi_company.sort_values(by='trips_amount',ascending = True).plot(x='company_name',y='trips_amount',kind='barh',figsize=(12,8))\n",
    "plt.title('Number of rides for each taxi company on November 15-16, 2017')\n",
    "plt.xlabel('Number of rides')\n",
    "plt.ylabel('Taxi companies')\n",
    "plt.tight_layout()\n",
    "plt.show()"
   ]
  },
  {
   "cell_type": "markdown",
   "metadata": {},
   "source": [
    "We can see on the graph that Flash Cab taxi company is a definite leader by amount of rides made on November 15-16, 2017.\n",
    "\n",
    "The next goes group of taxi companies which includes: Taxi Affiliation Services, Medallion Leasin, Yellow Cab etc. In descriptive statistics we can see that 16 taxi companies have highest amount of rides (number of rides more than 2106). These 16 companies belong to the highest 4th quartile by the number of rides. 16 taxi companies is 25,0% of total number of taxi companies.\n",
    "\n",
    "And we also have a lot of small taxi companies who have relatively small number of rides in comparison with the biggest taxi companies."
   ]
  },
  {
   "cell_type": "code",
   "execution_count": 29,
   "metadata": {},
   "outputs": [
    {
     "data": {
      "image/png": "[encoded data removed]",
      "text/plain": [
       "<Figure size 1200x800 with 1 Axes>"
      ]
     },
     "metadata": {},
     "output_type": "display_data"
    }
   ],
   "source": [
    "#let's plot the top 10 neighborhoods by number of dropoffs\n",
    "top10neighborhoods.plot(x='dropoff_location_name',y='average_trips',kind='barh',figsize=(12,8))\n",
    "plt.title('Top 10 neighborhoods by number of dropoffs')\n",
    "plt.xlabel('Average number of rides that ended in each neighborhood in November 2017')\n",
    "plt.ylabel('End neighborhoods')\n",
    "plt.tight_layout()\n",
    "plt.show()"
   ]
  },
  {
   "cell_type": "markdown",
   "metadata": {},
   "source": [
    "Wee see from the graph that the biggest number of rides in November 2017 ended in Loop neighborhood Chicago.\n",
    "\n",
    "Very close to the Loop neighborhood by the number of ended rides goes River North neighborhood.\n",
    "\n",
    "The top 4 neighborhoods by number of ended rides are: Loop, River North, Streeterville and West Loop. \n",
    "\n",
    "The other 6 neighborhoods have twice lower number of ended rides in comparison with these top four neighborhoods."
   ]
  },
  {
   "cell_type": "markdown",
   "metadata": {},
   "source": [
    "### Conclusion"
   ]
  },
  {
   "cell_type": "markdown",
   "metadata": {},
   "source": [
    "I analyzed data retrieved in the previous tasks (step2 and 3) and made graphs for it.\n",
    "\n",
    "Files contain following data:\n",
    "- First one contains data about taxi companies and number of rides each taxi company made on November 15-16, 2017\n",
    "- Second one contains data about Chicago neighborhoods where rides ended and the average number of rides that ended in each neighborhood in November 2017\n",
    "\n",
    "From the data and graphs I can conclude:\n",
    "- The top 10 neighborhoods in terms of drop-offs are: **Loop, River North, Streeterville, West Loop, O’Hare, Lake View, Grant Park, Museum Campus, Gold Coast and Sheffield & DePaul**.\n",
    "- **Flash Cab taxi company is a leader by amount of rides made** on November 15-16, 2017. This company completed 19558 trips in this period of time.\n",
    "- The next goes group of 15 taxi companies (or 16 including Flash Cab taxi company). These 16 taxi companies have highest amount of rides (number of rides more than 2106, 4th quartile according to the descriptive statistics).\n",
    "- **16 taxi companies made the highest amount of rides. This means that 25,0% of total number of taxi companies made the highest amount of rides**.\n",
    "- We also have a lot of small taxi companies who have relatively small number of rides in comparison with the biggest taxi companies.\n",
    "- **The biggest number of rides in November 2017 ended in Loop neighborhood Chicago**.\n",
    "- The top 4 neighborhoods by number of ended rides are: Loop, River North, Streeterville and West Loop.\n",
    "- The other 6 neighborhoods among top 10 neighborhoods by number of ended rides have twice lower number of ended rides in comparison with these top four neighborhoods."
   ]
  },
  {
   "cell_type": "markdown",
   "metadata": {},
   "source": [
    "###  Step 5. Testing hypotheses (Python)\n",
    "<a class=\"anchor\" id=\"step5\"></a>\n",
    "\n",
    "<b>project_sql_result_07.csv</b> — the result of the last query. It contains data on rides from the Loop to O'Hare International Airport. <br>\n",
    "Remember, these are the table's field values:<br>\n",
    "- start_ts - pickup date and time<br>\n",
    "- weather_conditions - weather conditions at the moment the ride started duration_seconds - ride duration in seconds\n",
    "\n",
    "Test the hypothesis:<br>\n",
    "<b>\"The average duration of rides from Loop neighborhood to O'Hare International Airport changes on rainy Saturdays.\"</b><br>\n",
    "<br>\n",
    "Set the significance level (alpha) value independently.<br> \n",
    "Explain:<br>\n",
    "- how you formed the null and alternative hypotheses \n",
    "- what criterion you used to test the hypotheses and why"
   ]
  },
  {
   "cell_type": "code",
   "execution_count": 30,
   "metadata": {},
   "outputs": [],
   "source": [
    "#let's read the file with data about rides from the Loop to O'Hare International Airport\n",
    "#rides_loop_airport = pd.read_csv('project_sql_result_07.csv')\n",
    "\n",
    "#code for the platform:\n",
    "rides_loop_airport = pd.read_csv('project_sql_result_07.csv')"
   ]
  },
  {
   "cell_type": "code",
   "execution_count": 31,
   "metadata": {},
   "outputs": [
    {
     "name": "stdout",
     "output_type": "stream",
     "text": [
      "<class 'pandas.core.frame.DataFrame'>\n",
      "RangeIndex: 1068 entries, 0 to 1067\n",
      "Data columns (total 3 columns):\n",
      " #   Column              Non-Null Count  Dtype  \n",
      "---  ------              --------------  -----  \n",
      " 0   start_ts            1068 non-null   object \n",
      " 1   weather_conditions  1068 non-null   object \n",
      " 2   duration_seconds    1068 non-null   float64\n",
      "dtypes: float64(1), object(2)\n",
      "memory usage: 25.2+ KB\n"
     ]
    }
   ],
   "source": [
    "#let's look on the data we read from csv file\n",
    "rides_loop_airport.info()"
   ]
  },
  {
   "cell_type": "code",
   "execution_count": 32,
   "metadata": {},
   "outputs": [
    {
     "data": {
      "text/html": [
       "<div>\n",
       "<style scoped>\n",
       "    .dataframe tbody tr th:only-of-type {\n",
       "        vertical-align: middle;\n",
       "    }\n",
       "\n",
       "    .dataframe tbody tr th {\n",
       "        vertical-align: top;\n",
       "    }\n",
       "\n",
       "    .dataframe thead th {\n",
       "        text-align: right;\n",
       "    }\n",
       "</style>\n",
       "<table border=\"1\" class=\"dataframe\">\n",
       "  <thead>\n",
       "    <tr style=\"text-align: right;\">\n",
       "      <th></th>\n",
       "      <th>start_ts</th>\n",
       "      <th>weather_conditions</th>\n",
       "      <th>duration_seconds</th>\n",
       "    </tr>\n",
       "  </thead>\n",
       "  <tbody>\n",
       "    <tr>\n",
       "      <th>457</th>\n",
       "      <td>2017-11-11 14:00:00</td>\n",
       "      <td>Good</td>\n",
       "      <td>2820.0</td>\n",
       "    </tr>\n",
       "    <tr>\n",
       "      <th>503</th>\n",
       "      <td>2017-11-11 17:00:00</td>\n",
       "      <td>Good</td>\n",
       "      <td>2100.0</td>\n",
       "    </tr>\n",
       "    <tr>\n",
       "      <th>17</th>\n",
       "      <td>2017-11-25 10:00:00</td>\n",
       "      <td>Good</td>\n",
       "      <td>1502.0</td>\n",
       "    </tr>\n",
       "    <tr>\n",
       "      <th>991</th>\n",
       "      <td>2017-11-11 04:00:00</td>\n",
       "      <td>Good</td>\n",
       "      <td>1380.0</td>\n",
       "    </tr>\n",
       "    <tr>\n",
       "      <th>108</th>\n",
       "      <td>2017-11-25 08:00:00</td>\n",
       "      <td>Good</td>\n",
       "      <td>1277.0</td>\n",
       "    </tr>\n",
       "    <tr>\n",
       "      <th>284</th>\n",
       "      <td>2017-11-11 06:00:00</td>\n",
       "      <td>Good</td>\n",
       "      <td>1320.0</td>\n",
       "    </tr>\n",
       "    <tr>\n",
       "      <th>99</th>\n",
       "      <td>2017-11-04 08:00:00</td>\n",
       "      <td>Good</td>\n",
       "      <td>1677.0</td>\n",
       "    </tr>\n",
       "    <tr>\n",
       "      <th>228</th>\n",
       "      <td>2017-11-04 10:00:00</td>\n",
       "      <td>Good</td>\n",
       "      <td>2112.0</td>\n",
       "    </tr>\n",
       "    <tr>\n",
       "      <th>96</th>\n",
       "      <td>2017-11-11 07:00:00</td>\n",
       "      <td>Good</td>\n",
       "      <td>1200.0</td>\n",
       "    </tr>\n",
       "    <tr>\n",
       "      <th>1039</th>\n",
       "      <td>2017-11-04 06:00:00</td>\n",
       "      <td>Good</td>\n",
       "      <td>1200.0</td>\n",
       "    </tr>\n",
       "  </tbody>\n",
       "</table>\n",
       "</div>"
      ],
      "text/plain": [
       "                 start_ts weather_conditions  duration_seconds\n",
       "457   2017-11-11 14:00:00               Good            2820.0\n",
       "503   2017-11-11 17:00:00               Good            2100.0\n",
       "17    2017-11-25 10:00:00               Good            1502.0\n",
       "991   2017-11-11 04:00:00               Good            1380.0\n",
       "108   2017-11-25 08:00:00               Good            1277.0\n",
       "284   2017-11-11 06:00:00               Good            1320.0\n",
       "99    2017-11-04 08:00:00               Good            1677.0\n",
       "228   2017-11-04 10:00:00               Good            2112.0\n",
       "96    2017-11-11 07:00:00               Good            1200.0\n",
       "1039  2017-11-04 06:00:00               Good            1200.0"
      ]
     },
     "execution_count": 32,
     "metadata": {},
     "output_type": "execute_result"
    }
   ],
   "source": [
    "#sample rows from the dataset\n",
    "rides_loop_airport.sample(10)"
   ]
  },
  {
   "cell_type": "markdown",
   "metadata": {},
   "source": [
    "We see in info about dataset that 'start_ts' column is an object type, when it should be datetype. Let's convert it."
   ]
  },
  {
   "cell_type": "code",
   "execution_count": 33,
   "metadata": {},
   "outputs": [],
   "source": [
    "#convert 'start_ts' column into datetime type\n",
    "rides_loop_airport['start_ts'] = pd.to_datetime(rides_loop_airport['start_ts'],format='%Y.%m.%d')"
   ]
  },
  {
   "cell_type": "code",
   "execution_count": 34,
   "metadata": {},
   "outputs": [
    {
     "name": "stdout",
     "output_type": "stream",
     "text": [
      "<class 'pandas.core.frame.DataFrame'>\n",
      "RangeIndex: 1068 entries, 0 to 1067\n",
      "Data columns (total 3 columns):\n",
      " #   Column              Non-Null Count  Dtype         \n",
      "---  ------              --------------  -----         \n",
      " 0   start_ts            1068 non-null   datetime64[ns]\n",
      " 1   weather_conditions  1068 non-null   object        \n",
      " 2   duration_seconds    1068 non-null   float64       \n",
      "dtypes: datetime64[ns](1), float64(1), object(1)\n",
      "memory usage: 25.2+ KB\n"
     ]
    }
   ],
   "source": [
    "#now we see that 'start_ts' column is datetime64[ns] type\n",
    "rides_loop_airport.info()"
   ]
  },
  {
   "cell_type": "markdown",
   "metadata": {},
   "source": [
    "We should test the hypothesis: \"The average duration of rides from Loop neighborhood to O'Hare International Airport changes **on rainy Saturdays.\"**\n",
    "\n",
    "So let's check what exactly week days we have in our dataset."
   ]
  },
  {
   "cell_type": "code",
   "execution_count": 35,
   "metadata": {},
   "outputs": [
    {
     "data": {
      "text/plain": [
       "5    1068\n",
       "Name: weekday, dtype: int64"
      ]
     },
     "execution_count": 35,
     "metadata": {},
     "output_type": "execute_result"
    }
   ],
   "source": [
    "rides_loop_airport['weekday'] = rides_loop_airport['start_ts'].dt.dayofweek\n",
    "rides_loop_airport['weekday'].value_counts()"
   ]
  },
  {
   "cell_type": "markdown",
   "metadata": {},
   "source": [
    "We see from the value_counts() method that the dataset contains information only about Saturdays.<br> \n",
    "(0 - Monday, 1 - Tuesday, 2 - Wednesday, 3 - Thursday, 4 - Friday, 5 - Saturday)<br> \n",
    "<br> \n",
    "So we can just create slices of dataset by weather condition and test our hypothesis."
   ]
  },
  {
   "cell_type": "code",
   "execution_count": 36,
   "metadata": {},
   "outputs": [
    {
     "data": {
      "text/plain": [
       "Good    888\n",
       "Bad     180\n",
       "Name: weather_conditions, dtype: int64"
      ]
     },
     "execution_count": 36,
     "metadata": {},
     "output_type": "execute_result"
    }
   ],
   "source": [
    "#let's look how many data for each weather condition we have\n",
    "rides_loop_airport['weather_conditions'].value_counts()"
   ]
  },
  {
   "cell_type": "markdown",
   "metadata": {},
   "source": [
    "We see that in Chicago 8 times more sunny days than rainy."
   ]
  },
  {
   "cell_type": "code",
   "execution_count": 37,
   "metadata": {},
   "outputs": [
    {
     "name": "stdout",
     "output_type": "stream",
     "text": [
      "<class 'pandas.core.frame.DataFrame'>\n",
      "Int64Index: 888 entries, 0 to 1066\n",
      "Data columns (total 4 columns):\n",
      " #   Column              Non-Null Count  Dtype         \n",
      "---  ------              --------------  -----         \n",
      " 0   start_ts            888 non-null    datetime64[ns]\n",
      " 1   weather_conditions  888 non-null    object        \n",
      " 2   duration_seconds    888 non-null    float64       \n",
      " 3   weekday             888 non-null    int64         \n",
      "dtypes: datetime64[ns](1), float64(1), int64(1), object(1)\n",
      "memory usage: 34.7+ KB\n"
     ]
    }
   ],
   "source": [
    "#let's create a data slices with good weather conditions\n",
    "good = rides_loop_airport[rides_loop_airport['weather_conditions']=='Good']\n",
    "#everything looks correct\n",
    "good.info()"
   ]
  },
  {
   "cell_type": "code",
   "execution_count": 38,
   "metadata": {},
   "outputs": [
    {
     "name": "stdout",
     "output_type": "stream",
     "text": [
      "<class 'pandas.core.frame.DataFrame'>\n",
      "Int64Index: 180 entries, 6 to 1067\n",
      "Data columns (total 4 columns):\n",
      " #   Column              Non-Null Count  Dtype         \n",
      "---  ------              --------------  -----         \n",
      " 0   start_ts            180 non-null    datetime64[ns]\n",
      " 1   weather_conditions  180 non-null    object        \n",
      " 2   duration_seconds    180 non-null    float64       \n",
      " 3   weekday             180 non-null    int64         \n",
      "dtypes: datetime64[ns](1), float64(1), int64(1), object(1)\n",
      "memory usage: 7.0+ KB\n"
     ]
    }
   ],
   "source": [
    "#data slices with bad weather conditions\n",
    "bad = rides_loop_airport[rides_loop_airport['weather_conditions']=='Bad']\n",
    "#everything looks correct\n",
    "bad.info()"
   ]
  },
  {
   "cell_type": "markdown",
   "metadata": {},
   "source": [
    "We should test the hypothesis:\n",
    "**\"The average duration of rides from Loop neighborhood to O'Hare International Airport changes on rainy Saturdays.\"**\n",
    "\n",
    "Let's formulate zero hypothesis to test our statement:\n",
    "\n",
    "The null hypothesis, H0, is a statement of “no effect” or “no difference” or average rides durations in rainy and sunny days are equal. The alternative hypothesis tells that the average durations of rides in rainy and sunny days  are not equal:\n",
    "\n",
    "- H0 - the average duration of rides from Loop neighborhood to O'Hare International Airport in rainy Saturdays and average duration of of rides from Loop neighborhood to O'Hare International Airport in sunny Saturdays **are equal**.\n",
    "- H1 - the average duration of rides in rainy Saturdays and in sunny Saturdays **are not equal**.\n",
    "\n",
    "To test this hypotheses I will apply the method scipy.stats.ttest_ind(array1, array2, equal_var). One of assunptions of t-test tells about variations equality. So if our data samples have equal variances we use equal_var parameter equal **True** of ttest_ind, otherwise - **False**. To get to know if we have equal variances of data samples, let's apply Levene's test. \n",
    "\n",
    "I will use the 1% critical statistical significance level as more strict."
   ]
  },
  {
   "cell_type": "code",
   "execution_count": 39,
   "metadata": {},
   "outputs": [
    {
     "name": "stdout",
     "output_type": "stream",
     "text": [
      "Dispersion of duration_seconds column for rainy Saturdays 575732.9308497686\n",
      "\n",
      "Dispersion of duration_seconds column for other Saturdays 517403.5633024689\n"
     ]
    }
   ],
   "source": [
    "#let's calculate variances just to look on it\n",
    "print('Dispersion of duration_seconds column for rainy Saturdays',np.var(good['duration_seconds']))\n",
    "print()\n",
    "print('Dispersion of duration_seconds column for other Saturdays',np.var(bad['duration_seconds']))"
   ]
  },
  {
   "cell_type": "code",
   "execution_count": 40,
   "metadata": {},
   "outputs": [
    {
     "data": {
      "text/plain": [
       "LeveneResult(statistic=0.7184273561022895, pvalue=0.3968505113995001)"
      ]
     },
     "execution_count": 40,
     "metadata": {},
     "output_type": "execute_result"
    }
   ],
   "source": [
    "#let's call the Levene’s test function and enter the name of the samples\n",
    "# our samples are good['duration_seconds'] and bad['duration_seconds']\n",
    "\n",
    "#The null hypothesis formed in the Levene’s test is that the groups we are comparing have equal variance\n",
    "\n",
    "st.levene(good['duration_seconds'], bad['duration_seconds'], center='mean')"
   ]
  },
  {
   "cell_type": "code",
   "execution_count": 41,
   "metadata": {},
   "outputs": [
    {
     "name": "stdout",
     "output_type": "stream",
     "text": [
      "We can't reject the null hypothesis\n"
     ]
    }
   ],
   "source": [
    "#let's check if we can reject of the null hypothesis of the Levene’s test \n",
    "# which says that the groups we are comparing have equal variance\n",
    "\n",
    "if (0.3968505113995001 < 0.01):\n",
    "        print(\"We reject the null hypothesis\")\n",
    "else:\n",
    "        print(\"We can't reject the null hypothesis\")"
   ]
  },
  {
   "cell_type": "markdown",
   "metadata": {},
   "source": [
    "We see that with 1% critical statistical significance level, we can't reject hypothesis which tells that data slices of good and bad weather conditions have equal variance. Means, yes, these two datasets have equal variance. \n",
    "<br><br>\n",
    "Now we can make t-test."
   ]
  },
  {
   "cell_type": "code",
   "execution_count": 42,
   "metadata": {},
   "outputs": [
    {
     "name": "stdout",
     "output_type": "stream",
     "text": [
      "statistical significance level 0.01\n",
      "p-value:  6.517970327099473e-12\n",
      "We reject the null hypothesis\n"
     ]
    }
   ],
   "source": [
    "alpha = .01 # critical statistical significance level\n",
    "            # if the p-value is less than alpha, we reject the hypothesis\n",
    "\n",
    "results = st.ttest_ind(\n",
    "        good['duration_seconds'], \n",
    "        bad['duration_seconds'],\n",
    "        equal_var = True)\n",
    "\n",
    "print('statistical significance level',alpha)\n",
    "print('p-value: ', results.pvalue)\n",
    "if (results.pvalue < alpha):\n",
    "        print(\"We reject the null hypothesis\")\n",
    "else:\n",
    "        print(\"We can't reject the null hypothesis\")"
   ]
  },
  {
   "cell_type": "markdown",
   "metadata": {},
   "source": [
    "In the test above we get the result on 1% significance level that **we should reject the null hypothesis** that the average duration of rides from Loop neighborhood to O'Hare International Airport in rainy Saturdays and in sunny Saturdays **are equal**.\n",
    "\n",
    "It means that the alternative hypothesis is correct. The alternative hypothesis says: the average duration of rides in rainy Saturdays and in sunny Saturdays **are not equal.**\n",
    "\n",
    "So we confirm our statement **\"The average duration of rides from Loop neighborhood to O'Hare International Airport <u><b>changes</b></u> on rainy Saturdays.\"**"
   ]
  },
  {
   "cell_type": "markdown",
   "metadata": {},
   "source": [
    "### Conclusion"
   ]
  },
  {
   "cell_type": "markdown",
   "metadata": {},
   "source": [
    "I tested the statement **\"The average duration of rides from the Loop to O'Hare International Airport changes on rainy Saturdays.\"**\n",
    "\n",
    "To test this statement I formulated the null and alternative hypotheses: \n",
    "\n",
    "- H0 - the average duration of rides from Loop neighborhood to O'Hare International Airport in rainy Saturdays and average duration of of rides from Loop neighborhood to O'Hare International Airport in sunny Saturdays **are equal**.\n",
    "- H1 - the average duration of rides in rainy Saturdays and in sunny Saturdays **are not equal**.\n",
    "\n",
    "To test hypotheses I used the method scipy.stats.ttest_ind(array1, array2, equal_var).\n",
    "Before making the t-test I checked if the variances of data samples are equal. To do this I made Levene's test of equal variances. In the Levene's test I confirmed that the variances are equal. \n",
    "\n",
    "With 1% significance level I rejected the null hypothesis of t-test, so I took the alternative hypothesis which says: that the average duration of rides in rainy Saturdays and in sunny Saturdays are not equal.\n",
    "\n",
    "So I can make following conclusion: \n",
    "- **I confirm with 1% significance level that the average duration of rides from the Loop to O'Hare International Airport changes on rainy Saturdays.**"
   ]
  },
  {
   "cell_type": "markdown",
   "metadata": {},
   "source": [
    "###  Overall Conclusion\n",
    "<a class=\"anchor\" id=\"step6\"></a>"
   ]
  },
  {
   "cell_type": "markdown",
   "metadata": {},
   "source": [
    "We have datasets retrieved with the help of SQL. The datasets contain information about taxi rides in Chicago in November 2017. I also have dataframe with data about weather in Chicago in November 2017  which I parsed from the meteo website.\n",
    "\n",
    "I analyzed the data and I can make following conclusions about it:\n",
    "\n",
    "- The top 10 neighborhoods in terms of drop-offs are: **Loop, River North, Streeterville, West Loop, O’Hare, Lake View, Grant Park, Museum Campus, Gold Coast and Sheffield & DePaul**.\n",
    "- **Flash Cab taxi company is a leader by amount of rides made** on November 15-16, 2017. This company completed 19558 trips in this period of time.\n",
    "- **16 taxi companies made the highest amount of rides. This means that 25,0% of total number of taxi companies made the highest amount of rides**.\n",
    "- **The biggest number of rides in November 2017 ended in Loop neighborhood Chicago**.\n",
    "- The top 4 neighborhoods by number of ended rides are: Loop, River North, Streeterville and West Loop.\n",
    "\n",
    "I tested following statement with t-test and got the following result:\n",
    "\n",
    "**Statement:** \"The average duration of rides from the Loop to O'Hare International Airport <u>changes</u> on rainy Saturdays.\" <br>\n",
    "**Result:** With the 1% significance level I confirmed the statement is **True**."
   ]
  }
 ],
 "metadata": {
  "kernelspec": {
   "display_name": "Python 3 (ipykernel)",
   "language": "python",
   "name": "python3"
  },
  "language_info": {
   "codemirror_mode": {
    "name": "ipython",
    "version": 3
   },
   "file_extension": ".py",
   "mimetype": "text/x-python",
   "name": "python",
   "nbconvert_exporter": "python",
   "pygments_lexer": "ipython3",
   "version": "3.9.13"
  },
  "toc": {
   "base_numbering": 1,
   "nav_menu": {},
   "number_sections": true,
   "sideBar": true,
   "skip_h1_title": false,
   "title_cell": "Table of Contents",
   "title_sidebar": "Contents",
   "toc_cell": false,
   "toc_position": {},
   "toc_section_display": true,
   "toc_window_display": false
  }
 },
 "nbformat": 4,
 "nbformat_minor": 4
}
